{
 "cells": [
  {
   "cell_type": "markdown",
   "metadata": {},
   "source": [
    "# Recommendation API"
   ]
  },
  {
   "cell_type": "markdown",
   "metadata": {},
   "source": [
    "Chenxin Xie"
   ]
  },
  {
   "cell_type": "code",
   "execution_count": null,
   "metadata": {},
   "outputs": [
    {
     "name": "stdout",
     "output_type": "stream",
     "text": [
      " * Serving Flask app \"__main__\" (lazy loading)\n",
      " * Environment: production\n",
      "   WARNING: This is a development server. Do not use it in a production deployment.\n",
      "   Use a production WSGI server instead.\n",
      " * Debug mode: off\n"
     ]
    },
    {
     "name": "stderr",
     "output_type": "stream",
     "text": [
      " * Running on http://localhost:6000/ (Press CTRL+C to quit)\n",
      "127.0.0.1 - - [22/Mar/2020 15:29:14] \"GET /recommendation?userID=1 HTTP/1.1\" 200 -\n",
      "127.0.0.1 - - [22/Mar/2020 15:29:36] \"GET /recommendation?userID=1 HTTP/1.1\" 200 -\n"
     ]
    }
   ],
   "source": [
    "## Import packages\n",
    "from flask import Flask, request, jsonify\n",
    "import pandas\n",
    "\n",
    "## Initialize app\n",
    "app = Flask(__name__)\n",
    "\n",
    "## Read in predictions.csv and movies.csv using Pandas\n",
    "predictions = pandas.read_csv(\"C:/Users/cxie/Desktop/Recommendation tools/individual assignment/Chenxin_prediction.csv\").dropna()\n",
    "\n",
    "## The application definiton\n",
    "### Endpoint - one route /ratings/top - one HTTP verb = GET\n",
    "@app.route(\"/recommendation\", methods=[\"GET\"])\n",
    "def recommendation():\n",
    "    ## read the parameters of the API call\n",
    "    userID_str = request.args.get(\"userID\")\n",
    "    try:\n",
    "        userID = int(userID_str)\n",
    "    except:\n",
    "        return \"'userID' is required and should be an Integer.\"\n",
    "        sys.exit(\"'userID' is required and should be an Integer.\")\n",
    "       \n",
    "    count_str = request.args.get(\"count\")\n",
    "    try:\n",
    "        count = int(count_str)\n",
    "    except:\n",
    "        count = 5\n",
    "    \n",
    "    # filter predictions for the given userId\n",
    "    predict = predictions[predictions.userID == userID].head(count)\n",
    "    \n",
    "    # select movieId, title and prediction and transform to list\n",
    "    recommendation = list(predict[[\"artistID\", \"name\", \"score\"]].T.to_dict().values())\n",
    "    \n",
    "    # Return the result to the API\n",
    "    return jsonify(recommendation)\n",
    "\n",
    "### Put endpoint online\n",
    "if __name__ == '__main__':\n",
    "    app.run(host='localhost', port=6000)\n"
   ]
  }
 ],
 "metadata": {
  "kernelspec": {
   "display_name": "Python 3",
   "language": "python",
   "name": "python3"
  },
  "language_info": {
   "codemirror_mode": {
    "name": "ipython",
    "version": 3
   },
   "file_extension": ".py",
   "mimetype": "text/x-python",
   "name": "python",
   "nbconvert_exporter": "python",
   "pygments_lexer": "ipython3",
   "version": "3.7.4"
  }
 },
 "nbformat": 4,
 "nbformat_minor": 2
}
